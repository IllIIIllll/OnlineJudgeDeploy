{
 "cells": [
  {
   "cell_type": "code",
   "execution_count": 4,
   "metadata": {
    "ExecuteTime": {
     "end_time": "2020-05-29T05:56:16.296544Z",
     "start_time": "2020-05-29T05:56:15.805474Z"
    },
    "scrolled": false
   },
   "outputs": [
    {
     "name": "stdout",
     "output_type": "stream",
     "text": [
      "6\n",
      "      *\n",
      "     **\n",
      "    ***\n",
      "   ****\n",
      "  *****\n",
      " ******\n"
     ]
    }
   ],
   "source": [
    "n = int(input())\n",
    "\n",
    "print('\\n'.join([f'{\" \" * (n-i)}{\"*\" * (i+1)}' for i in range(n)]))"
   ]
  },
  {
   "cell_type": "code",
   "execution_count": 5,
   "metadata": {
    "ExecuteTime": {
     "end_time": "2020-05-29T05:56:44.011738Z",
     "start_time": "2020-05-29T05:56:43.870599Z"
    }
   },
   "outputs": [],
   "source": [
    "# Write test case\n",
    "for i in range(100):\n",
    "    file_in = open(f\"D:/JiSung/algorithm/8. 직각삼각형2/datasets/{i+1}.in\", 'w')\n",
    "    file_out = open(f\"D:/JiSung/algorithm/8. 직각삼각형2/datasets/{i+1}.out\", 'w')\n",
    "    \n",
    "    file_in.write(f'{i+1}')\n",
    "    file_out.write('\\n'.join([f'{\"*\" * (i+1)}' for i in range(i+1)]))\n",
    "    \n",
    "    file_in.close()\n",
    "    file_out.close()"
   ]
  }
 ],
 "metadata": {
  "hide_input": false,
  "kernelspec": {
   "display_name": "Python 3",
   "language": "python",
   "name": "python3"
  },
  "language_info": {
   "codemirror_mode": {
    "name": "ipython",
    "version": 3
   },
   "file_extension": ".py",
   "mimetype": "text/x-python",
   "name": "python",
   "nbconvert_exporter": "python",
   "pygments_lexer": "ipython3",
   "version": "3.7.6"
  },
  "varInspector": {
   "cols": {
    "lenName": 16,
    "lenType": 16,
    "lenVar": 40
   },
   "kernels_config": {
    "python": {
     "delete_cmd_postfix": "",
     "delete_cmd_prefix": "del ",
     "library": "var_list.py",
     "varRefreshCmd": "print(var_dic_list())"
    },
    "r": {
     "delete_cmd_postfix": ") ",
     "delete_cmd_prefix": "rm(",
     "library": "var_list.r",
     "varRefreshCmd": "cat(var_dic_list()) "
    }
   },
   "position": {
    "height": "336px",
    "left": "1444px",
    "right": "20px",
    "top": "348px",
    "width": "350px"
   },
   "types_to_exclude": [
    "module",
    "function",
    "builtin_function_or_method",
    "instance",
    "_Feature"
   ],
   "window_display": true
  }
 },
 "nbformat": 4,
 "nbformat_minor": 4
}
