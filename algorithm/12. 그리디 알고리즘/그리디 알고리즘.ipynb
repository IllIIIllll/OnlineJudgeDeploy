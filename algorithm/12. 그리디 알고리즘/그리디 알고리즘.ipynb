{
 "cells": [
  {
   "cell_type": "code",
   "execution_count": 6,
   "metadata": {
    "ExecuteTime": {
     "end_time": "2020-05-31T14:46:21.525034Z",
     "start_time": "2020-05-31T14:46:16.328723Z"
    },
    "scrolled": true
   },
   "outputs": [
    {
     "name": "stdout",
     "output_type": "stream",
     "text": [
      "8376568\n",
      "500 16753\n",
      "100 0\n",
      "50 1\n",
      "10 1\n",
      "5 1\n",
      "1 3\n",
      "16759\n"
     ]
    }
   ],
   "source": [
    "n = int(input())\n",
    "coin = [500, 100, 50, 10, 5, 1]\n",
    "for i in range(len(coin)):\n",
    "    print(coin[i], n // coin[i])\n",
    "    coin[i], n = n // coin[i], n % coin[i]\n",
    "print(sum(coin))"
   ]
  },
  {
   "cell_type": "code",
   "execution_count": 9,
   "metadata": {
    "ExecuteTime": {
     "end_time": "2020-05-31T14:49:55.807278Z",
     "start_time": "2020-05-31T14:49:55.766414Z"
    }
   },
   "outputs": [
    {
     "data": {
      "text/plain": [
       "8376568"
      ]
     },
     "execution_count": 9,
     "metadata": {},
     "output_type": "execute_result"
    }
   ],
   "source": [
    "500*16753 + 50 + 10 + 5 + 3"
   ]
  },
  {
   "cell_type": "code",
   "execution_count": 4,
   "metadata": {
    "ExecuteTime": {
     "end_time": "2020-05-31T14:43:55.686586Z",
     "start_time": "2020-05-31T14:43:55.319756Z"
    }
   },
   "outputs": [],
   "source": [
    "import random\n",
    "\n",
    "# Create test case input\n",
    "num_list = [i+1 for i in range(1, 1_000_000_000)]\n",
    "tc_in = [random.choice(num_list) for _ in range(100)]\n",
    "\n",
    "# Write test case\n",
    "for num in range(100):\n",
    "    file_in = open(f\"D:/JISUNG/git/OnlineJudgeDeploy/algorithm/12. 그리디 알고리즘/datasets/{num+1}.in\", 'w')\n",
    "    file_out = open(f\"D:/JISUNG/git/OnlineJudgeDeploy/algorithm/12. 그리디 알고리즘/datasets/{num+1}.out\", 'w')\n",
    "    file_in.write(f'{tc_in[num]}')\n",
    "    coin = [500, 100, 50, 10, 5, 1]\n",
    "    for i in range(len(coin)):\n",
    "        coin[i], tc_in[num] = tc_in[num] // coin[i], tc_in[num] % coin[i]\n",
    "    file_out.write(f'{sum(coin)}')\n",
    "    \n",
    "    file_in.close()\n",
    "    file_out.close()"
   ]
  }
 ],
 "metadata": {
  "hide_input": false,
  "kernelspec": {
   "display_name": "Python 3",
   "language": "python",
   "name": "python3"
  },
  "language_info": {
   "codemirror_mode": {
    "name": "ipython",
    "version": 3
   },
   "file_extension": ".py",
   "mimetype": "text/x-python",
   "name": "python",
   "nbconvert_exporter": "python",
   "pygments_lexer": "ipython3",
   "version": "3.7.6"
  },
  "varInspector": {
   "cols": {
    "lenName": 16,
    "lenType": 16,
    "lenVar": 40
   },
   "kernels_config": {
    "python": {
     "delete_cmd_postfix": "",
     "delete_cmd_prefix": "del ",
     "library": "var_list.py",
     "varRefreshCmd": "print(var_dic_list())"
    },
    "r": {
     "delete_cmd_postfix": ") ",
     "delete_cmd_prefix": "rm(",
     "library": "var_list.r",
     "varRefreshCmd": "cat(var_dic_list()) "
    }
   },
   "position": {
    "height": "336px",
    "left": "1562px",
    "right": "20px",
    "top": "90px",
    "width": "350px"
   },
   "types_to_exclude": [
    "module",
    "function",
    "builtin_function_or_method",
    "instance",
    "_Feature"
   ],
   "window_display": true
  }
 },
 "nbformat": 4,
 "nbformat_minor": 4
}
