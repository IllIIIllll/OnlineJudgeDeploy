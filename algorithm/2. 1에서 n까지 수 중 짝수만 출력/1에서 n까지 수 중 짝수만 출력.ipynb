{
 "cells": [
  {
   "cell_type": "code",
   "execution_count": 57,
   "metadata": {
    "ExecuteTime": {
     "end_time": "2020-05-29T01:52:27.557888Z",
     "start_time": "2020-05-29T01:52:26.329222Z"
    },
    "scrolled": true
   },
   "outputs": [
    {
     "name": "stdout",
     "output_type": "stream",
     "text": [
      "100\n",
      "2\n",
      "4\n",
      "6\n",
      "8\n",
      "10\n",
      "12\n",
      "14\n",
      "16\n",
      "18\n",
      "20\n",
      "22\n",
      "24\n",
      "26\n",
      "28\n",
      "30\n",
      "32\n",
      "34\n",
      "36\n",
      "38\n",
      "40\n",
      "42\n",
      "44\n",
      "46\n",
      "48\n",
      "50\n",
      "52\n",
      "54\n",
      "56\n",
      "58\n",
      "60\n",
      "62\n",
      "64\n",
      "66\n",
      "68\n",
      "70\n",
      "72\n",
      "74\n",
      "76\n",
      "78\n",
      "80\n",
      "82\n",
      "84\n",
      "86\n",
      "88\n",
      "90\n",
      "92\n",
      "94\n",
      "96\n",
      "98\n",
      "100\n"
     ]
    }
   ],
   "source": [
    "n = int(input())\n",
    "\n",
    "print('\\n'.join([f'{i+1}' for i in range(n) if not (i + 1) % 2]))"
   ]
  },
  {
   "cell_type": "code",
   "execution_count": 59,
   "metadata": {
    "ExecuteTime": {
     "end_time": "2020-05-29T01:54:52.852029Z",
     "start_time": "2020-05-29T01:54:52.649583Z"
    }
   },
   "outputs": [],
   "source": [
    "import random\n",
    "\n",
    "# Create test case input\n",
    "num_list = [i+1 for i in range(10000)]\n",
    "tc_in = random.sample(num_list, 100)\n",
    "\n",
    "# Write test case\n",
    "for i in range(100):\n",
    "    file_in = open(f\"D:/JiSung/algorithm/2. 1에서 n까지 수 중 짝수만 출력/datasets/{i+1}.in\", 'w')\n",
    "    file_out = open(f\"D:/JiSung/algorithm/2. 1에서 n까지 수 중 짝수만 출력/datasets/{i+1}.out\", 'w')\n",
    "    \n",
    "    file_in.write(str(tc_in[i]))\n",
    "    file_out.write('\\n'.join([f'{i+1}' for i in range(tc_in[i]) if not (i + 1) % 2]))\n",
    "    \n",
    "    file_in.close()\n",
    "    file_out.close()"
   ]
  }
 ],
 "metadata": {
  "hide_input": false,
  "kernelspec": {
   "display_name": "Python 3",
   "language": "python",
   "name": "python3"
  },
  "language_info": {
   "codemirror_mode": {
    "name": "ipython",
    "version": 3
   },
   "file_extension": ".py",
   "mimetype": "text/x-python",
   "name": "python",
   "nbconvert_exporter": "python",
   "pygments_lexer": "ipython3",
   "version": "3.7.6"
  },
  "varInspector": {
   "cols": {
    "lenName": 16,
    "lenType": 16,
    "lenVar": 40
   },
   "kernels_config": {
    "python": {
     "delete_cmd_postfix": "",
     "delete_cmd_prefix": "del ",
     "library": "var_list.py",
     "varRefreshCmd": "print(var_dic_list())"
    },
    "r": {
     "delete_cmd_postfix": ") ",
     "delete_cmd_prefix": "rm(",
     "library": "var_list.r",
     "varRefreshCmd": "cat(var_dic_list()) "
    }
   },
   "position": {
    "height": "336px",
    "left": "1444px",
    "right": "20px",
    "top": "348px",
    "width": "350px"
   },
   "types_to_exclude": [
    "module",
    "function",
    "builtin_function_or_method",
    "instance",
    "_Feature"
   ],
   "window_display": true
  }
 },
 "nbformat": 4,
 "nbformat_minor": 4
}
