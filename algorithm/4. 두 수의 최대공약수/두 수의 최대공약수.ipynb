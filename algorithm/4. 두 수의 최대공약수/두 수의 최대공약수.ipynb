{
 "cells": [
  {
   "cell_type": "code",
   "execution_count": 72,
   "metadata": {
    "ExecuteTime": {
     "end_time": "2020-05-29T02:30:28.726780Z",
     "start_time": "2020-05-29T02:30:28.298553Z"
    },
    "scrolled": true
   },
   "outputs": [
    {
     "name": "stdout",
     "output_type": "stream",
     "text": [
      "6433 958\n"
     ]
    },
    {
     "data": {
      "text/plain": [
       "1"
      ]
     },
     "execution_count": 72,
     "metadata": {},
     "output_type": "execute_result"
    }
   ],
   "source": [
    "a, b = map(int, input().split())\n",
    "\n",
    "while b:\n",
    "    a, b = b, a % b\n",
    "a"
   ]
  },
  {
   "cell_type": "code",
   "execution_count": 69,
   "metadata": {
    "ExecuteTime": {
     "end_time": "2020-05-29T02:29:49.706041Z",
     "start_time": "2020-05-29T02:29:49.595255Z"
    }
   },
   "outputs": [],
   "source": [
    "import random\n",
    "\n",
    "# Create test case input\n",
    "num_list = [i+1 for i in range(10000)]\n",
    "tc_in = [random.sample(num_list, 100), random.sample(num_list, 100)]\n",
    "\n",
    "# Write test case\n",
    "for i in range(100):\n",
    "    file_in = open(f\"D:/JiSung/algorithm/4. 두 수의 최대공약수/datasets/{i+1}.in\", 'w')\n",
    "    file_out = open(f\"D:/JiSung/algorithm/4. 두 수의 최대공약수/datasets/{i+1}.out\", 'w')\n",
    "    \n",
    "    a = tc_in[0][i]; b = tc_in[1][i]\n",
    "    file_in.write(f'{a} {b}')\n",
    "    while b: a, b = b, a % b\n",
    "    file_out.write(f'{a}')\n",
    "    \n",
    "    file_in.close()\n",
    "    file_out.close()"
   ]
  },
  {
   "cell_type": "code",
   "execution_count": 73,
   "metadata": {
    "ExecuteTime": {
     "end_time": "2020-05-29T02:30:35.846951Z",
     "start_time": "2020-05-29T02:30:35.841955Z"
    }
   },
   "outputs": [],
   "source": [
    "for i in range(100):\n",
    "    if tc_in[0] == tc_in[1]: print('error')"
   ]
  }
 ],
 "metadata": {
  "hide_input": false,
  "kernelspec": {
   "display_name": "Python 3",
   "language": "python",
   "name": "python3"
  },
  "language_info": {
   "codemirror_mode": {
    "name": "ipython",
    "version": 3
   },
   "file_extension": ".py",
   "mimetype": "text/x-python",
   "name": "python",
   "nbconvert_exporter": "python",
   "pygments_lexer": "ipython3",
   "version": "3.7.6"
  },
  "varInspector": {
   "cols": {
    "lenName": 16,
    "lenType": 16,
    "lenVar": 40
   },
   "kernels_config": {
    "python": {
     "delete_cmd_postfix": "",
     "delete_cmd_prefix": "del ",
     "library": "var_list.py",
     "varRefreshCmd": "print(var_dic_list())"
    },
    "r": {
     "delete_cmd_postfix": ") ",
     "delete_cmd_prefix": "rm(",
     "library": "var_list.r",
     "varRefreshCmd": "cat(var_dic_list()) "
    }
   },
   "position": {
    "height": "336px",
    "left": "1444px",
    "right": "20px",
    "top": "348px",
    "width": "350px"
   },
   "types_to_exclude": [
    "module",
    "function",
    "builtin_function_or_method",
    "instance",
    "_Feature"
   ],
   "window_display": true
  }
 },
 "nbformat": 4,
 "nbformat_minor": 4
}
