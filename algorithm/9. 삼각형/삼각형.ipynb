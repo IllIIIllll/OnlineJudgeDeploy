{
 "cells": [
  {
   "cell_type": "code",
   "execution_count": 15,
   "metadata": {
    "ExecuteTime": {
     "end_time": "2020-05-29T06:21:59.455163Z",
     "start_time": "2020-05-29T06:21:58.148042Z"
    },
    "scrolled": true
   },
   "outputs": [
    {
     "name": "stdout",
     "output_type": "stream",
     "text": [
      "5\n",
      "    *\n",
      "   ***\n",
      "  *****\n",
      " *******\n",
      "*********\n"
     ]
    }
   ],
   "source": [
    "n = int(input())\n",
    "\n",
    "print('\\n'.join([f'{\" \" * ((n*2-i) // 2)}{\"*\" * (i)}' for i in range(1, n*2, 2)]))"
   ]
  },
  {
   "cell_type": "code",
   "execution_count": 19,
   "metadata": {
    "ExecuteTime": {
     "end_time": "2020-05-29T06:25:17.454573Z",
     "start_time": "2020-05-29T06:25:17.338314Z"
    }
   },
   "outputs": [],
   "source": [
    "# Write test case\n",
    "for num in range(100):\n",
    "    file_in = open(f\"D:/JiSung/algorithm/9. 삼각형/datasets/{num+1}.in\", 'w')\n",
    "    file_out = open(f\"D:/JiSung/algorithm/9. 삼각형/datasets/{num+1}.out\", 'w')\n",
    "    \n",
    "    file_in.write(f'{num+1}')\n",
    "    file_out.write('\\n'.join([f'{\" \" * (((num+1)*2-i) // 2)}{\"*\" * (i)}' for i in range(1, (num+1)*2, 2)]))\n",
    "    \n",
    "    file_in.close()\n",
    "    file_out.close()"
   ]
  }
 ],
 "metadata": {
  "hide_input": false,
  "kernelspec": {
   "display_name": "Python 3",
   "language": "python",
   "name": "python3"
  },
  "language_info": {
   "codemirror_mode": {
    "name": "ipython",
    "version": 3
   },
   "file_extension": ".py",
   "mimetype": "text/x-python",
   "name": "python",
   "nbconvert_exporter": "python",
   "pygments_lexer": "ipython3",
   "version": "3.7.6"
  },
  "varInspector": {
   "cols": {
    "lenName": 16,
    "lenType": 16,
    "lenVar": 40
   },
   "kernels_config": {
    "python": {
     "delete_cmd_postfix": "",
     "delete_cmd_prefix": "del ",
     "library": "var_list.py",
     "varRefreshCmd": "print(var_dic_list())"
    },
    "r": {
     "delete_cmd_postfix": ") ",
     "delete_cmd_prefix": "rm(",
     "library": "var_list.r",
     "varRefreshCmd": "cat(var_dic_list()) "
    }
   },
   "position": {
    "height": "336px",
    "left": "1444px",
    "right": "20px",
    "top": "348px",
    "width": "350px"
   },
   "types_to_exclude": [
    "module",
    "function",
    "builtin_function_or_method",
    "instance",
    "_Feature"
   ],
   "window_display": true
  }
 },
 "nbformat": 4,
 "nbformat_minor": 4
}
