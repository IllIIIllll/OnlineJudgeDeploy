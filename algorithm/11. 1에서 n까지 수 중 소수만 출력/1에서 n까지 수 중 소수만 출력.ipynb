{
 "cells": [
  {
   "cell_type": "code",
   "execution_count": 73,
   "metadata": {
    "ExecuteTime": {
     "end_time": "2020-05-29T07:20:32.336732Z",
     "start_time": "2020-05-29T07:20:31.444561Z"
    },
    "scrolled": true
   },
   "outputs": [
    {
     "name": "stdout",
     "output_type": "stream",
     "text": [
      "10\n"
     ]
    },
    {
     "data": {
      "text/plain": [
       "'2 3 5 7'"
      ]
     },
     "execution_count": 73,
     "metadata": {},
     "output_type": "execute_result"
    }
   ],
   "source": [
    "n = int(input())\n",
    "\n",
    "temp = [0, 0] + [1] * (n-1)\n",
    "\n",
    "for i in range(int(n**0.5) + 1):\n",
    "    if temp[i]:\n",
    "        temp[i*2::i] = [0] * ((n//i) - 1)\n",
    "' '.join([f'{i}' for i in range(len(temp)) if temp[i]])"
   ]
  },
  {
   "cell_type": "code",
   "execution_count": 68,
   "metadata": {
    "ExecuteTime": {
     "end_time": "2020-05-29T07:19:12.880801Z",
     "start_time": "2020-05-29T07:19:07.524131Z"
    }
   },
   "outputs": [],
   "source": [
    "import random\n",
    "\n",
    "# Create test case input\n",
    "num_list = [i+1 for i in range(1, 1_000_000)]\n",
    "tc_in = [random.choice(num_list) for _ in range(100)]\n",
    "\n",
    "# Write test case\n",
    "for num in range(100):\n",
    "    file_in = open(f\"D:/JiSung/algorithm/11. 1에서 n까지 수 중 소수만 출력/datasets/{num+1}.in\", 'w')\n",
    "    file_out = open(f\"D:/JiSung/algorithm/11. 1에서 n까지 수 중 소수만 출력/datasets/{num+1}.out\", 'w')\n",
    "    \n",
    "    temp = [0, 0] + [1] * (tc_in[num]-1)\n",
    "\n",
    "    for i in range(int(tc_in[num]**0.5) + 1):\n",
    "        if temp[i]:\n",
    "            temp[i*2::i] = [0] * ((tc_in[num]//i) - 1)\n",
    "    \n",
    "    \n",
    "    file_in.write(f'{tc_in[num]}')\n",
    "    file_out.write(' '.join([f'{i}' for i in range(len(temp)) if temp[i]]))\n",
    "    \n",
    "    file_in.close()\n",
    "    file_out.close()"
   ]
  },
  {
   "cell_type": "code",
   "execution_count": 69,
   "metadata": {
    "ExecuteTime": {
     "end_time": "2020-05-29T07:19:14.256258Z",
     "start_time": "2020-05-29T07:19:14.251261Z"
    }
   },
   "outputs": [
    {
     "data": {
      "text/plain": [
       "False"
      ]
     },
     "execution_count": 69,
     "metadata": {},
     "output_type": "execute_result"
    }
   ],
   "source": [
    "tc_in == set(tc_in)"
   ]
  },
  {
   "cell_type": "code",
   "execution_count": 70,
   "metadata": {
    "ExecuteTime": {
     "end_time": "2020-05-29T07:19:15.104242Z",
     "start_time": "2020-05-29T07:19:15.099245Z"
    }
   },
   "outputs": [
    {
     "data": {
      "text/plain": [
       "False"
      ]
     },
     "execution_count": 70,
     "metadata": {},
     "output_type": "execute_result"
    }
   ],
   "source": [
    "1 in tc_in"
   ]
  }
 ],
 "metadata": {
  "hide_input": false,
  "kernelspec": {
   "display_name": "Python 3",
   "language": "python",
   "name": "python3"
  },
  "language_info": {
   "codemirror_mode": {
    "name": "ipython",
    "version": 3
   },
   "file_extension": ".py",
   "mimetype": "text/x-python",
   "name": "python",
   "nbconvert_exporter": "python",
   "pygments_lexer": "ipython3",
   "version": "3.7.6"
  },
  "varInspector": {
   "cols": {
    "lenName": 16,
    "lenType": 16,
    "lenVar": 40
   },
   "kernels_config": {
    "python": {
     "delete_cmd_postfix": "",
     "delete_cmd_prefix": "del ",
     "library": "var_list.py",
     "varRefreshCmd": "print(var_dic_list())"
    },
    "r": {
     "delete_cmd_postfix": ") ",
     "delete_cmd_prefix": "rm(",
     "library": "var_list.r",
     "varRefreshCmd": "cat(var_dic_list()) "
    }
   },
   "position": {
    "height": "336px",
    "left": "1562px",
    "right": "20px",
    "top": "90px",
    "width": "350px"
   },
   "types_to_exclude": [
    "module",
    "function",
    "builtin_function_or_method",
    "instance",
    "_Feature"
   ],
   "window_display": true
  }
 },
 "nbformat": 4,
 "nbformat_minor": 4
}
